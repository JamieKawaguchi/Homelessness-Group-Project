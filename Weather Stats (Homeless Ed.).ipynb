{
 "cells": [
  {
   "cell_type": "markdown",
   "id": "4305da02",
   "metadata": {},
   "source": [
    "# Weather Stats from NOAA"
   ]
  },
  {
   "cell_type": "code",
   "execution_count": 1,
   "id": "7cbc442d",
   "metadata": {},
   "outputs": [],
   "source": [
    "#dependancies\n",
    "import requests\n",
    "import pandas as pd\n",
    "import json\n",
    "from datetime import datetime\n",
    "import time\n",
    "from concurrent.futures import ThreadPoolExecutor\n",
    "\n",
    "#API\n",
    "from config import ncdc_api\n",
    "headers = {\"token\":ncdc_api} #token from https://www.ncdc.noaa.gov/cdo-web/token"
   ]
  },
  {
   "cell_type": "markdown",
   "id": "134611cf",
   "metadata": {},
   "source": [
    "Original Code<br>\n",
    "    Pulling data with this original code has approximately a 50/50 chance of success. While it does work, a more efficient method for acquiring the requested data was sought after. "
   ]
  },
  {
   "cell_type": "code",
   "execution_count": null,
   "id": "074e9198",
   "metadata": {},
   "outputs": [],
   "source": [
    "'''#get a list of states and their ids\n",
    "url=\"https://www.ncei.noaa.gov/cdo-web/api/v2/locations?locationcategoryid=ST&limit=52\"\n",
    "r = requests.get(url, \"dataset\", headers = headers).text\n",
    "states = json.loads(r) \n",
    "\n",
    "#make an api call to get temperature average from Summary of the Year dataset for every station in each state\n",
    "for i in states['results']:\n",
    "    if i['id']!=\"FIPS:11\": #breaks on District of Columbia(FIPS:11)? skipping it\n",
    "        #print(i['name'])\n",
    "        datasetid='GSOY' #Global Summary of the Year, contains a yearly resolution of meteorological elements \n",
    "        datatypeid = \"TAVG\" #TAVG TMAX TMIN\n",
    "        locationid=i['id'] #assigning state id which returns all weather stations in its boundry\n",
    "        units='standard' #standard or metric\n",
    "        startdate=\"2021-01-01\"\n",
    "        enddate=\"2021-12-31\" #code cant handle more then one year at a time\n",
    "        limit=\"1000\" #max is 1000, default is 25\n",
    "\n",
    "        #make the api call\n",
    "        url= f\"https://www.ncdc.noaa.gov/cdo-web/api/v2/data?datasetid={datasetid}&datatypeid={datatypeid}&locationid={locationid}&units={units}&startdate={startdate}&enddate={enddate}&limit={limit}\"\n",
    "        r = requests.get(url, \"dataset\", headers = headers).text\n",
    "        response = json.loads(r)\n",
    "        \n",
    "        #get the temp from each weather station, add them up then find average\n",
    "        tavg=0\n",
    "        for i in response['results']:\n",
    "            #print(i['value']) #print value from each station\n",
    "            tavg += i['value'] \n",
    "        tavg = tavg/len(response['results'])\n",
    "        #print (tavg)\n",
    "        \n",
    "        time.sleep(5) #api allows up to 5 requests per second but seems to hang sometimes, limiting to 1 per second\n",
    "        weather_data.append({\"State\": state,\n",
    "                     \"Average Temp (2021)\": tavg})'''"
   ]
  },
  {
   "cell_type": "markdown",
   "id": "66697996",
   "metadata": {},
   "source": [
    "More Efficient Code<br>\n",
    "This code was written with the assistance of an AI language model.<br>\n",
    "Using the base of the previous code, the \"concurrent.futures\" module allows for multiple API requests simultaneously, as opposed to running a \"for\" loop through thousands of rows."
   ]
  },
  {
   "cell_type": "code",
   "execution_count": 5,
   "id": "2e32862b",
   "metadata": {},
   "outputs": [],
   "source": [
    "#define function to fetch temperature data per state\n",
    "def fetch_temperature_data(state):\n",
    "    #existing code from original\n",
    "    #some NOAA specific variable calls\n",
    "    datasetid = 'GSOY'\n",
    "    datatypeid = 'TAVG'\n",
    "    locationid = state['id']\n",
    "    units = 'standard'\n",
    "    startdate = '2021-01-01'\n",
    "    enddate = '2021-12-31'\n",
    "    limit = '1000'\n",
    "    \n",
    "    #NOAA url with inlaid variables (API call)\n",
    "    url = f\"https://www.ncdc.noaa.gov/cdo-web/api/v2/data?datasetid={datasetid}&datatypeid={datatypeid}&locationid={locationid}&units={units}&startdate={startdate}&enddate={enddate}&limit={limit}\"\n",
    "    r = requests.get(url, headers=headers).text\n",
    "    response = json.loads(r)\n",
    "    \n",
    "    #set temp avg at 0\n",
    "    tavg = 0\n",
    "    if \"results\" in response:\n",
    "        for result in response['results']:\n",
    "            tavg += result['value']\n",
    "        #find avg of all NOAA stations' temp data per state\n",
    "        tavg = tavg / len(response['results'])\n",
    "    else:\n",
    "        tavg=None\n",
    "    time.sleep(2)  # Limit to 1 request per second\n",
    "    \n",
    "    return {\"State\": state['name'], \"Average Temp (2021)\": tavg}\n",
    "\n",
    "if __name__ == '__main__':\n",
    "    # Get a list of states and their ids\n",
    "    state_url = \"https://www.ncei.noaa.gov/cdo-web/api/v2/locations?locationcategoryid=ST&limit=52\"\n",
    "    state_response = requests.get(state_url, headers=headers).text\n",
    "    states = json.loads(state_response)['results']\n",
    "\n",
    "    # Use ThreadPoolExecutor to fetch temperature data for each state in parallel\n",
    "    with ThreadPoolExecutor(max_workers=5) as executor:  # Adjust max_workers as needed\n",
    "        weather_data = list(executor.map(fetch_temperature_data, states))\n",
    "\n",
    "    # At this point, weather_data contains the temperature data for all states"
   ]
  },
  {
   "cell_type": "code",
   "execution_count": 13,
   "id": "a99dda26",
   "metadata": {},
   "outputs": [
    {
     "data": {
      "text/html": [
       "<div>\n",
       "<style scoped>\n",
       "    .dataframe tbody tr th:only-of-type {\n",
       "        vertical-align: middle;\n",
       "    }\n",
       "\n",
       "    .dataframe tbody tr th {\n",
       "        vertical-align: top;\n",
       "    }\n",
       "\n",
       "    .dataframe thead th {\n",
       "        text-align: right;\n",
       "    }\n",
       "</style>\n",
       "<table border=\"1\" class=\"dataframe\">\n",
       "  <thead>\n",
       "    <tr style=\"text-align: right;\">\n",
       "      <th></th>\n",
       "      <th>State</th>\n",
       "      <th>Average Temp (2021)</th>\n",
       "    </tr>\n",
       "  </thead>\n",
       "  <tbody>\n",
       "    <tr>\n",
       "      <th>0</th>\n",
       "      <td>Alabama</td>\n",
       "      <td>63.755000</td>\n",
       "    </tr>\n",
       "    <tr>\n",
       "      <th>1</th>\n",
       "      <td>Alaska</td>\n",
       "      <td>30.352143</td>\n",
       "    </tr>\n",
       "    <tr>\n",
       "      <th>2</th>\n",
       "      <td>Arizona</td>\n",
       "      <td>59.975949</td>\n",
       "    </tr>\n",
       "    <tr>\n",
       "      <th>3</th>\n",
       "      <td>Arkansas</td>\n",
       "      <td>61.046835</td>\n",
       "    </tr>\n",
       "    <tr>\n",
       "      <th>4</th>\n",
       "      <td>California</td>\n",
       "      <td>59.257534</td>\n",
       "    </tr>\n",
       "  </tbody>\n",
       "</table>\n",
       "</div>"
      ],
      "text/plain": [
       "        State  Average Temp (2021)\n",
       "0     Alabama            63.755000\n",
       "1      Alaska            30.352143\n",
       "2     Arizona            59.975949\n",
       "3    Arkansas            61.046835\n",
       "4  California            59.257534"
      ]
     },
     "execution_count": 13,
     "metadata": {},
     "output_type": "execute_result"
    }
   ],
   "source": [
    "#ensure data pulled successfully and create df\n",
    "weather_data_df = pd.DataFrame(weather_data)\n",
    "weather_data_df.head()"
   ]
  },
  {
   "cell_type": "code",
   "execution_count": 9,
   "id": "9c655e49",
   "metadata": {},
   "outputs": [],
   "source": [
    "#save to csv for merging\n",
    "weather_data_df.to_csv(\"weather.csv\", index_label=\"State\")"
   ]
  },
  {
   "cell_type": "code",
   "execution_count": null,
   "id": "05004cfe",
   "metadata": {},
   "outputs": [],
   "source": []
  }
 ],
 "metadata": {
  "kernelspec": {
   "display_name": "Python 3 (ipykernel)",
   "language": "python",
   "name": "python3"
  },
  "language_info": {
   "codemirror_mode": {
    "name": "ipython",
    "version": 3
   },
   "file_extension": ".py",
   "mimetype": "text/x-python",
   "name": "python",
   "nbconvert_exporter": "python",
   "pygments_lexer": "ipython3",
   "version": "3.11.5"
  }
 },
 "nbformat": 4,
 "nbformat_minor": 5
}
