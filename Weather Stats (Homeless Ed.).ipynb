{
 "cells": [
  {
   "cell_type": "markdown",
   "id": "4305da02",
   "metadata": {},
   "source": [
    "# Weather Stats from NOAA"
   ]
  },
  {
   "cell_type": "code",
   "execution_count": 1,
   "id": "7cbc442d",
   "metadata": {},
   "outputs": [],
   "source": [
    "#dependancies\n",
    "import requests\n",
    "import pandas as pd\n",
    "import json\n",
    "from datetime import datetime\n",
    "import time\n",
    "\n",
    "#API\n",
    "from config import ncdc_api\n",
    "headers = {\"token\":ncdc_api} #token from https://www.ncdc.noaa.gov/cdo-web/token"
   ]
  },
  {
   "cell_type": "code",
   "execution_count": 2,
   "id": "cf035cc5",
   "metadata": {},
   "outputs": [
    {
     "name": "stdout",
     "output_type": "stream",
     "text": [
      "Alabama\n",
      "63.75500000000001\n",
      "Alaska\n",
      "30.35214285714286\n",
      "Arizona\n",
      "59.97594936708861\n",
      "Arkansas\n",
      "61.04683544303797\n",
      "California\n",
      "59.25753424657534\n",
      "Colorado\n",
      "44.388582677165346\n",
      "Connecticut\n",
      "51.73333333333333\n",
      "Delaware\n",
      "57.17999999999999\n",
      "Florida\n",
      "73.95681818181819\n",
      "Georgia\n",
      "63.33548387096773\n",
      "Hawaii\n",
      "71.33846153846154\n",
      "Idaho\n",
      "44.14178082191783\n",
      "Illinois\n",
      "52.97777777777775\n",
      "Indiana\n",
      "53.69655172413794\n",
      "Iowa\n",
      "50.073267326732676\n",
      "Kansas\n",
      "56.13109243697478\n",
      "Kentucky\n",
      "57.12075471698111\n",
      "Louisiana\n",
      "67.90277777777779\n",
      "Maine\n",
      "45.552\n",
      "Maryland\n",
      "56.16190476190476\n",
      "Massachusetts\n",
      "51.07659574468085\n",
      "Michigan\n"
     ]
    },
    {
     "ename": "JSONDecodeError",
     "evalue": "Expecting value: line 1 column 1 (char 0)",
     "output_type": "error",
     "traceback": [
      "\u001b[1;31m---------------------------------------------------------------------------\u001b[0m",
      "\u001b[1;31mJSONDecodeError\u001b[0m                           Traceback (most recent call last)",
      "Cell \u001b[1;32mIn[2], line 21\u001b[0m\n\u001b[0;32m     19\u001b[0m url\u001b[38;5;241m=\u001b[39m \u001b[38;5;124mf\u001b[39m\u001b[38;5;124m\"\u001b[39m\u001b[38;5;124mhttps://www.ncdc.noaa.gov/cdo-web/api/v2/data?datasetid=\u001b[39m\u001b[38;5;132;01m{\u001b[39;00mdatasetid\u001b[38;5;132;01m}\u001b[39;00m\u001b[38;5;124m&datatypeid=\u001b[39m\u001b[38;5;132;01m{\u001b[39;00mdatatypeid\u001b[38;5;132;01m}\u001b[39;00m\u001b[38;5;124m&locationid=\u001b[39m\u001b[38;5;132;01m{\u001b[39;00mlocationid\u001b[38;5;132;01m}\u001b[39;00m\u001b[38;5;124m&units=\u001b[39m\u001b[38;5;132;01m{\u001b[39;00munits\u001b[38;5;132;01m}\u001b[39;00m\u001b[38;5;124m&startdate=\u001b[39m\u001b[38;5;132;01m{\u001b[39;00mstartdate\u001b[38;5;132;01m}\u001b[39;00m\u001b[38;5;124m&enddate=\u001b[39m\u001b[38;5;132;01m{\u001b[39;00menddate\u001b[38;5;132;01m}\u001b[39;00m\u001b[38;5;124m&limit=\u001b[39m\u001b[38;5;132;01m{\u001b[39;00mlimit\u001b[38;5;132;01m}\u001b[39;00m\u001b[38;5;124m\"\u001b[39m\n\u001b[0;32m     20\u001b[0m r \u001b[38;5;241m=\u001b[39m requests\u001b[38;5;241m.\u001b[39mget(url, \u001b[38;5;124m\"\u001b[39m\u001b[38;5;124mdataset\u001b[39m\u001b[38;5;124m\"\u001b[39m, headers \u001b[38;5;241m=\u001b[39m headers)\u001b[38;5;241m.\u001b[39mtext\n\u001b[1;32m---> 21\u001b[0m response \u001b[38;5;241m=\u001b[39m json\u001b[38;5;241m.\u001b[39mloads(r)\n\u001b[0;32m     23\u001b[0m \u001b[38;5;66;03m#get the temp from each weather station, add them up then find average\u001b[39;00m\n\u001b[0;32m     24\u001b[0m tavg\u001b[38;5;241m=\u001b[39m\u001b[38;5;241m0\u001b[39m\n",
      "File \u001b[1;32m~\\anaconda3\\Lib\\json\\__init__.py:346\u001b[0m, in \u001b[0;36mloads\u001b[1;34m(s, cls, object_hook, parse_float, parse_int, parse_constant, object_pairs_hook, **kw)\u001b[0m\n\u001b[0;32m    341\u001b[0m     s \u001b[38;5;241m=\u001b[39m s\u001b[38;5;241m.\u001b[39mdecode(detect_encoding(s), \u001b[38;5;124m'\u001b[39m\u001b[38;5;124msurrogatepass\u001b[39m\u001b[38;5;124m'\u001b[39m)\n\u001b[0;32m    343\u001b[0m \u001b[38;5;28;01mif\u001b[39;00m (\u001b[38;5;28mcls\u001b[39m \u001b[38;5;129;01mis\u001b[39;00m \u001b[38;5;28;01mNone\u001b[39;00m \u001b[38;5;129;01mand\u001b[39;00m object_hook \u001b[38;5;129;01mis\u001b[39;00m \u001b[38;5;28;01mNone\u001b[39;00m \u001b[38;5;129;01mand\u001b[39;00m\n\u001b[0;32m    344\u001b[0m         parse_int \u001b[38;5;129;01mis\u001b[39;00m \u001b[38;5;28;01mNone\u001b[39;00m \u001b[38;5;129;01mand\u001b[39;00m parse_float \u001b[38;5;129;01mis\u001b[39;00m \u001b[38;5;28;01mNone\u001b[39;00m \u001b[38;5;129;01mand\u001b[39;00m\n\u001b[0;32m    345\u001b[0m         parse_constant \u001b[38;5;129;01mis\u001b[39;00m \u001b[38;5;28;01mNone\u001b[39;00m \u001b[38;5;129;01mand\u001b[39;00m object_pairs_hook \u001b[38;5;129;01mis\u001b[39;00m \u001b[38;5;28;01mNone\u001b[39;00m \u001b[38;5;129;01mand\u001b[39;00m \u001b[38;5;129;01mnot\u001b[39;00m kw):\n\u001b[1;32m--> 346\u001b[0m     \u001b[38;5;28;01mreturn\u001b[39;00m _default_decoder\u001b[38;5;241m.\u001b[39mdecode(s)\n\u001b[0;32m    347\u001b[0m \u001b[38;5;28;01mif\u001b[39;00m \u001b[38;5;28mcls\u001b[39m \u001b[38;5;129;01mis\u001b[39;00m \u001b[38;5;28;01mNone\u001b[39;00m:\n\u001b[0;32m    348\u001b[0m     \u001b[38;5;28mcls\u001b[39m \u001b[38;5;241m=\u001b[39m JSONDecoder\n",
      "File \u001b[1;32m~\\anaconda3\\Lib\\json\\decoder.py:337\u001b[0m, in \u001b[0;36mJSONDecoder.decode\u001b[1;34m(self, s, _w)\u001b[0m\n\u001b[0;32m    332\u001b[0m \u001b[38;5;28;01mdef\u001b[39;00m \u001b[38;5;21mdecode\u001b[39m(\u001b[38;5;28mself\u001b[39m, s, _w\u001b[38;5;241m=\u001b[39mWHITESPACE\u001b[38;5;241m.\u001b[39mmatch):\n\u001b[0;32m    333\u001b[0m \u001b[38;5;250m    \u001b[39m\u001b[38;5;124;03m\"\"\"Return the Python representation of ``s`` (a ``str`` instance\u001b[39;00m\n\u001b[0;32m    334\u001b[0m \u001b[38;5;124;03m    containing a JSON document).\u001b[39;00m\n\u001b[0;32m    335\u001b[0m \n\u001b[0;32m    336\u001b[0m \u001b[38;5;124;03m    \"\"\"\u001b[39;00m\n\u001b[1;32m--> 337\u001b[0m     obj, end \u001b[38;5;241m=\u001b[39m \u001b[38;5;28mself\u001b[39m\u001b[38;5;241m.\u001b[39mraw_decode(s, idx\u001b[38;5;241m=\u001b[39m_w(s, \u001b[38;5;241m0\u001b[39m)\u001b[38;5;241m.\u001b[39mend())\n\u001b[0;32m    338\u001b[0m     end \u001b[38;5;241m=\u001b[39m _w(s, end)\u001b[38;5;241m.\u001b[39mend()\n\u001b[0;32m    339\u001b[0m     \u001b[38;5;28;01mif\u001b[39;00m end \u001b[38;5;241m!=\u001b[39m \u001b[38;5;28mlen\u001b[39m(s):\n",
      "File \u001b[1;32m~\\anaconda3\\Lib\\json\\decoder.py:355\u001b[0m, in \u001b[0;36mJSONDecoder.raw_decode\u001b[1;34m(self, s, idx)\u001b[0m\n\u001b[0;32m    353\u001b[0m     obj, end \u001b[38;5;241m=\u001b[39m \u001b[38;5;28mself\u001b[39m\u001b[38;5;241m.\u001b[39mscan_once(s, idx)\n\u001b[0;32m    354\u001b[0m \u001b[38;5;28;01mexcept\u001b[39;00m \u001b[38;5;167;01mStopIteration\u001b[39;00m \u001b[38;5;28;01mas\u001b[39;00m err:\n\u001b[1;32m--> 355\u001b[0m     \u001b[38;5;28;01mraise\u001b[39;00m JSONDecodeError(\u001b[38;5;124m\"\u001b[39m\u001b[38;5;124mExpecting value\u001b[39m\u001b[38;5;124m\"\u001b[39m, s, err\u001b[38;5;241m.\u001b[39mvalue) \u001b[38;5;28;01mfrom\u001b[39;00m \u001b[38;5;28;01mNone\u001b[39;00m\n\u001b[0;32m    356\u001b[0m \u001b[38;5;28;01mreturn\u001b[39;00m obj, end\n",
      "\u001b[1;31mJSONDecodeError\u001b[0m: Expecting value: line 1 column 1 (char 0)"
     ]
    }
   ],
   "source": [
    "#get a list of states and their ids\n",
    "url=\"https://www.ncei.noaa.gov/cdo-web/api/v2/locations?locationcategoryid=ST&limit=52\"\n",
    "r = requests.get(url, \"dataset\", headers = headers).text\n",
    "states = json.loads(r)\n",
    "\n",
    "#make an api call to get temperature average from Summary of the Year dataset for every station in each state\n",
    "for i in states['results']:\n",
    "    if i['id']!=\"FIPS:11\": #breaks on District of Columbia(FIPS:11)? skipping it\n",
    "        print(i['name'])\n",
    "        datasetid='GSOY' #Global Summary of the Year, contains a yearly resolution of meteorological elements \n",
    "        datatypeid = \"TAVG\" #TAVG TMAX TMIN\n",
    "        locationid=i['id'] #assigning state id which returns all weather stations in its boundry\n",
    "        units='standard' #standard or metric\n",
    "        startdate=\"2021-01-01\"\n",
    "        enddate=\"2021-12-31\" #code cant handle more then one year at a time\n",
    "        limit=\"1000\" #max is 1000, default is 25\n",
    "\n",
    "        #make the api call\n",
    "        url= f\"https://www.ncdc.noaa.gov/cdo-web/api/v2/data?datasetid={datasetid}&datatypeid={datatypeid}&locationid={locationid}&units={units}&startdate={startdate}&enddate={enddate}&limit={limit}\"\n",
    "        r = requests.get(url, \"dataset\", headers = headers).text\n",
    "        response = json.loads(r)\n",
    "        \n",
    "        #get the temp from each weather station, add them up then find average\n",
    "        tavg=0\n",
    "        for i in response['results']:\n",
    "            #print(i['value']) #print value from each station\n",
    "            tavg += i['value'] \n",
    "        tavg = tavg/len(response['results'])\n",
    "        print (tavg)\n",
    "        \n",
    "        time.sleep(1) #api allows up to 5 requests per second but seems to hang sometimes, limiting to 1 per second\n",
    "    "
   ]
  },
  {
   "cell_type": "code",
   "execution_count": null,
   "id": "a99dda26",
   "metadata": {},
   "outputs": [],
   "source": []
  }
 ],
 "metadata": {
  "kernelspec": {
   "display_name": "Python 3 (ipykernel)",
   "language": "python",
   "name": "python3"
  },
  "language_info": {
   "codemirror_mode": {
    "name": "ipython",
    "version": 3
   },
   "file_extension": ".py",
   "mimetype": "text/x-python",
   "name": "python",
   "nbconvert_exporter": "python",
   "pygments_lexer": "ipython3",
   "version": "3.11.5"
  }
 },
 "nbformat": 4,
 "nbformat_minor": 5
}
